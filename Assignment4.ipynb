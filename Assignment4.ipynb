{
 "cells": [
  {
   "cell_type": "markdown",
   "id": "13e20e25-bb15-461b-a14c-29a3843cb4aa",
   "metadata": {},
   "source": [
    "Q.1Create a python program to sort the given list of tuples based on integer value using a\n",
    "lambda function.\n"
   ]
  },
  {
   "cell_type": "code",
   "execution_count": 3,
   "id": "d65e0a8a-3b86-4d7e-a76d-2f2e81a37bba",
   "metadata": {},
   "outputs": [],
   "source": [
    "l=[('Sachin Tendulkar', 34357), ('Ricky Ponting', 27483), ('Jack Kallis', 25534), ('Virat Kohli', 24936)]"
   ]
  },
  {
   "cell_type": "code",
   "execution_count": 6,
   "id": "698f88f3-8733-4d0e-a943-3b9e32ef66d1",
   "metadata": {},
   "outputs": [],
   "source": [
    "x=sorted(l,key=lambda x:x[0])"
   ]
  },
  {
   "cell_type": "code",
   "execution_count": 8,
   "id": "8ff27889-3dff-4ac3-aa43-3adfa038c8e0",
   "metadata": {},
   "outputs": [
    {
     "name": "stdout",
     "output_type": "stream",
     "text": [
      "('Jack Kallis', 25534)\n",
      "('Ricky Ponting', 27483)\n",
      "('Sachin Tendulkar', 34357)\n",
      "('Virat Kohli', 24936)\n"
     ]
    }
   ],
   "source": [
    "for item  in x :\n",
    "    print(item)"
   ]
  },
  {
   "cell_type": "markdown",
   "id": "ad20710c-b1b8-4f24-9b4c-435fd9c5a494",
   "metadata": {},
   "source": [
    "Q2. Write a Python Program to find the squares of all the numbers in the given list of integers using\n",
    "lambda and map functions."
   ]
  },
  {
   "cell_type": "code",
   "execution_count": 27,
   "id": "cfab035c-24a5-4a62-9539-a3493f33b69a",
   "metadata": {},
   "outputs": [],
   "source": [
    "l=[1, 2, 3, 4, 5, 6, 7, 8, 9, 10]"
   ]
  },
  {
   "cell_type": "code",
   "execution_count": 28,
   "id": "f23b483f-0f66-4765-9ce7-84026405fddb",
   "metadata": {},
   "outputs": [],
   "source": [
    "sqr=list(map(lambda x: x**2,l))"
   ]
  },
  {
   "cell_type": "code",
   "execution_count": 30,
   "id": "947eb2ae-01e3-486c-8554-44634d0e1247",
   "metadata": {},
   "outputs": [
    {
     "data": {
      "text/plain": [
       "[1, 4, 9, 16, 25, 36, 49, 64, 81, 100]"
      ]
     },
     "execution_count": 30,
     "metadata": {},
     "output_type": "execute_result"
    }
   ],
   "source": [
    "sqr"
   ]
  },
  {
   "cell_type": "markdown",
   "id": "3c07db71-4ba2-4333-bc3c-c121e311565f",
   "metadata": {},
   "source": [
    "Q3. Write a python program to convert the given list of integers into a tuple of strings. Use map and\n",
    "lambda functions"
   ]
  },
  {
   "cell_type": "code",
   "execution_count": 32,
   "id": "f67088d3-3f4f-4f6e-adf3-253d5029c31e",
   "metadata": {},
   "outputs": [],
   "source": [
    "lit = [1, 2, 3, 4, 5, 6, 7, 8, 9, 10]"
   ]
  },
  {
   "cell_type": "code",
   "execution_count": 36,
   "id": "4b619df2-eba6-45d7-9dc4-f57b7c2dc4a4",
   "metadata": {},
   "outputs": [
    {
     "name": "stdout",
     "output_type": "stream",
     "text": [
      "('1', '2', '3', '4', '5', '6', '7', '8', '9', '10')\n"
     ]
    }
   ],
   "source": [
    "tupl = tuple(map(lambda x: str(x), lit))\n",
    "print(tupl)\n"
   ]
  },
  {
   "cell_type": "markdown",
   "id": "5881e1f8-2c67-46a2-90fd-cf52600c2d62",
   "metadata": {},
   "source": [
    "Q4. Write a python program using reduce function to compute the product of a list containing numbers\n",
    "from 1 to 25."
   ]
  },
  {
   "cell_type": "code",
   "execution_count": 37,
   "id": "b67902ba-56dd-4a1b-9616-8b6f426bb501",
   "metadata": {},
   "outputs": [],
   "source": [
    "from functools import reduce"
   ]
  },
  {
   "cell_type": "code",
   "execution_count": 38,
   "id": "22662b10-8098-40c1-9379-0b021ab98f78",
   "metadata": {},
   "outputs": [
    {
     "data": {
      "text/plain": [
       "15511210043330985984000000"
      ]
     },
     "execution_count": 38,
     "metadata": {},
     "output_type": "execute_result"
    }
   ],
   "source": [
    "reduce(lambda x,y:x*y, range(1,26))"
   ]
  },
  {
   "cell_type": "markdown",
   "id": "c786fb63-9707-495f-8ed1-65d52bdee18e",
   "metadata": {},
   "source": [
    "Q5. Write a python program to filter the numbers in a given list that are divisible by 2 and 3 using the\n",
    "filter function.\n",
    "[2, 3, 6, 9, 27, 60, 90, 120, 55, 46]\n"
   ]
  },
  {
   "cell_type": "code",
   "execution_count": 39,
   "id": "7534491d-14fb-495d-b083-c27adb88fe04",
   "metadata": {},
   "outputs": [],
   "source": [
    "l=[2, 3, 6, 9, 27, 60, 90, 120, 55, 46]"
   ]
  },
  {
   "cell_type": "code",
   "execution_count": 40,
   "id": "996cfc38-f755-4d23-acd8-b71e38fe71a0",
   "metadata": {},
   "outputs": [
    {
     "data": {
      "text/plain": [
       "[2, 3, 6, 9, 27, 60, 90, 120, 46]"
      ]
     },
     "execution_count": 40,
     "metadata": {},
     "output_type": "execute_result"
    }
   ],
   "source": [
    "list(filter(lambda x:x%2==0 or x%3==0,l))"
   ]
  },
  {
   "cell_type": "markdown",
   "id": "914b9779-12aa-440c-b23a-1b3b65c75619",
   "metadata": {},
   "source": [
    "Q6. Write a python program to find palindromes in the given list of strings using lambda and filter\n",
    "function.  ['python', 'php', 'aba', 'radar', 'level']"
   ]
  },
  {
   "cell_type": "code",
   "execution_count": 41,
   "id": "3fab4e5d-6f8f-43a4-8670-10698c3fbbc5",
   "metadata": {},
   "outputs": [],
   "source": [
    "l=['python', 'php', 'aba', 'radar', 'level']"
   ]
  },
  {
   "cell_type": "code",
   "execution_count": 42,
   "id": "ae5ef96f-489f-4fe9-8cc1-402d3690c310",
   "metadata": {},
   "outputs": [
    {
     "name": "stdout",
     "output_type": "stream",
     "text": [
      "['php', 'aba', 'radar', 'level']\n"
     ]
    }
   ],
   "source": [
    "is_palindrome = lambda s: s == s[::-1]\n",
    "palindromes = list(filter(is_palindrome, l))\n",
    "print(palindromes)\n"
   ]
  },
  {
   "cell_type": "code",
   "execution_count": null,
   "id": "f8dfe700-d0b5-4174-85ef-f5ef648cced3",
   "metadata": {},
   "outputs": [],
   "source": []
  }
 ],
 "metadata": {
  "kernelspec": {
   "display_name": "Python 3 (ipykernel)",
   "language": "python",
   "name": "python3"
  },
  "language_info": {
   "codemirror_mode": {
    "name": "ipython",
    "version": 3
   },
   "file_extension": ".py",
   "mimetype": "text/x-python",
   "name": "python",
   "nbconvert_exporter": "python",
   "pygments_lexer": "ipython3",
   "version": "3.10.8"
  }
 },
 "nbformat": 4,
 "nbformat_minor": 5
}
